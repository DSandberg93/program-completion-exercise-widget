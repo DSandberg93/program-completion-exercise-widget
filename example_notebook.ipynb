{
 "cells": [
  {
   "cell_type": "code",
   "execution_count": 1,
   "metadata": {
    "scrolled": true
   },
   "outputs": [
    {
     "data": {
      "application/vnd.jupyter.widget-view+json": {
       "model_id": "deed6a8752a8407a87354199cb832b8b",
       "version_major": 2,
       "version_minor": 0
      },
      "text/plain": [
       "Procoe(exercise_program=[['summen = 0'], ['for i in range(4, 20+1):'], ['    summen = ', ''], ['summen']])"
      ]
     },
     "metadata": {},
     "output_type": "display_data"
    }
   ],
   "source": [
    "import procoe\n",
    "p = procoe.Procoe(file_path='example_exercise.py')\n",
    "p"
   ]
  },
  {
   "cell_type": "code",
   "execution_count": 4,
   "metadata": {},
   "outputs": [
    {
     "name": "stdout",
     "output_type": "stream",
     "text": [
      "9\n",
      "9\n"
     ]
    }
   ],
   "source": [
    "code = [\n",
    "\"sum=9\\n\",\n",
    "\"print(sum)\"\n",
    "]\n",
    "exec(\"\".join([str(c) for c in code]))\n",
    "eval(code[len(code) - 1])"
   ]
  },
  {
   "cell_type": "code",
   "execution_count": null,
   "metadata": {},
   "outputs": [],
   "source": []
  }
 ],
 "metadata": {
  "kernelspec": {
   "display_name": "Python 3",
   "language": "python",
   "name": "python3"
  },
  "language_info": {
   "codemirror_mode": {
    "name": "ipython",
    "version": 3
   },
   "file_extension": ".py",
   "mimetype": "text/x-python",
   "name": "python",
   "nbconvert_exporter": "python",
   "pygments_lexer": "ipython3",
   "version": "3.7.5"
  }
 },
 "nbformat": 4,
 "nbformat_minor": 2
}
